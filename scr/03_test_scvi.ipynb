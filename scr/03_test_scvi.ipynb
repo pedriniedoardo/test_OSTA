{
 "cells": [
  {
   "cell_type": "code",
   "execution_count": 4,
   "metadata": {},
   "outputs": [
    {
     "name": "stdout",
     "output_type": "stream",
     "text": [
      "\u001b[34mINFO    \u001b[0m Downloading file at                                                                                       \n",
      "         \u001b[35m/media/edo/sandiskSSD/work/training/spatial_transcriptomic/test_OSTA/data/\u001b[0m\u001b[95mexpression.bin\u001b[0m                  \n"
     ]
    },
    {
     "data": {
      "application/vnd.jupyter.widget-view+json": {
       "model_id": "3e517fc29bea4582b3748324fc7e243a",
       "version_major": 2,
       "version_minor": 0
      },
      "text/plain": [
       "Downloading...:   0%|          | 0/121129.0 [00:00<?, ?it/s]"
      ]
     },
     "metadata": {},
     "output_type": "display_data"
    },
    {
     "name": "stdout",
     "output_type": "stream",
     "text": [
      "\u001b[34mINFO    \u001b[0m Loading Cortex data from                                                                                  \n",
      "         \u001b[35m/media/edo/sandiskSSD/work/training/spatial_transcriptomic/test_OSTA/data/\u001b[0m\u001b[95mexpression.bin\u001b[0m                  \n",
      "\u001b[34mINFO    \u001b[0m Finished loading Cortex data                                                                              \n"
     ]
    },
    {
     "name": "stderr",
     "output_type": "stream",
     "text": [
      "/home/edo/micromamba/envs/env_scvi/lib/python3.12/site-packages/anndata/_core/aligned_df.py:68: ImplicitModificationWarning: Transforming to str index.\n",
      "  warnings.warn(\"Transforming to str index.\", ImplicitModificationWarning)\n"
     ]
    }
   ],
   "source": [
    "import scvi\n",
    "ad = scvi.data.cortex(save_path=\"../../../data/\")\n",
    "# save object\n",
    "ad.write(\"../../../data/cortex.h5ad\")"
   ]
  },
  {
   "cell_type": "code",
   "execution_count": 5,
   "metadata": {},
   "outputs": [
    {
     "data": {
      "text/plain": [
       "0            interneurons\n",
       "1            interneurons\n",
       "2            interneurons\n",
       "3            interneurons\n",
       "4            interneurons\n",
       "              ...        \n",
       "3000    endothelial-mural\n",
       "3001    endothelial-mural\n",
       "3002    endothelial-mural\n",
       "3003    endothelial-mural\n",
       "3004    endothelial-mural\n",
       "Name: cell_type, Length: 3005, dtype: category\n",
       "Categories (7, object): ['astrocytes_ependymal', 'endothelial-mural', 'interneurons', 'microglia', 'oligodendrocytes', 'pyramidal CA1', 'pyramidal SS']"
      ]
     },
     "execution_count": 5,
     "metadata": {},
     "output_type": "execute_result"
    }
   ],
   "source": [
    "ad.obs.cell_type"
   ]
  }
 ],
 "metadata": {
  "kernelspec": {
   "display_name": "env_scvi",
   "language": "python",
   "name": "python3"
  },
  "language_info": {
   "codemirror_mode": {
    "name": "ipython",
    "version": 3
   },
   "file_extension": ".py",
   "mimetype": "text/x-python",
   "name": "python",
   "nbconvert_exporter": "python",
   "pygments_lexer": "ipython3",
   "version": "3.12.4"
  }
 },
 "nbformat": 4,
 "nbformat_minor": 2
}
